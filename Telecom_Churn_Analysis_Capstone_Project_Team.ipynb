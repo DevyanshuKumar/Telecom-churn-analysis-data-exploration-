{
  "nbformat": 4,
  "nbformat_minor": 0,
  "metadata": {
    "kernelspec": {
      "display_name": "Python 3",
      "language": "python",
      "name": "python3"
    },
    "language_info": {
      "codemirror_mode": {
        "name": "ipython",
        "version": 3
      },
      "file_extension": ".py",
      "mimetype": "text/x-python",
      "name": "python",
      "nbconvert_exporter": "python",
      "pygments_lexer": "ipython3",
      "version": "3.6.6"
    },
    "colab": {
      "provenance": [],
      "collapsed_sections": [
        "jhvAQXbPfulP",
        "RepHFWVWbawg",
        "N3u4V_tNqrKQ",
        "U5dXnU_8Dhop",
        "1UpalAtoMd93",
        "wELFXNF2h4lH",
        "Wo0AwwhAvZ3o"
      ],
      "include_colab_link": true
    }
  },
  "cells": [
    {
      "cell_type": "markdown",
      "metadata": {
        "id": "view-in-github",
        "colab_type": "text"
      },
      "source": [
        "<a href=\"https://colab.research.google.com/github/DevyanshuKumar/Telecom-churn-analysis-data-exploration-/blob/main/Telecom_Churn_Analysis_Capstone_Project_Team.ipynb\" target=\"_parent\"><img src=\"https://colab.research.google.com/assets/colab-badge.svg\" alt=\"Open In Colab\"/></a>"
      ]
    },
    {
      "cell_type": "markdown",
      "metadata": {
        "id": "Y06xIdG26kRF"
      },
      "source": [
        "## <b> Orange S.A., formerly France Télécom S.A., is a French multinational telecommunications corporation. The Orange Telecom's Churn Dataset, consists of cleaned customer activity data (features), along with a churn label specifying whether a customer canceled the subscription.\n",
        "\n",
        "## <b> Explore and analyze the data to discover key factors responsible for customer churn and come up with ways/recommendations to ensure customer retention. </b>"
      ]
    },
    {
      "cell_type": "markdown",
      "source": [
        "**Orange S.A. costumer churning**\n",
        "\n",
        "In mordern world, for companies to sustain and grow, its not only important to attract new costumers but **retaining the customers is also equally important**.\n",
        "\n",
        "The given data set has information of the customers switching/churning to other networks. Let us have a bird-eye view over the data first and then will help the Orange SA to figure out the key-factors resulting in the customer chrun.\n"
      ],
      "metadata": {
        "id": "gTxHjVfnYXJf"
      }
    },
    {
      "cell_type": "code",
      "metadata": {
        "id": "dByMsuzT8Tnw"
      },
      "source": [
        "# importing the necessaray modules\n",
        "import pandas as pd\n",
        "import numpy as np\n",
        "import matplotlib.pyplot as plt\n",
        "import seaborn as sns\n"
      ],
      "execution_count": null,
      "outputs": []
    },
    {
      "cell_type": "code",
      "source": [
        "# mounting the drive\n",
        "\n",
        "from google.colab import drive\n",
        "drive.mount('/content/drive',force_remount=True)\n",
        "\n",
        "# loading csv File\n",
        "file_path = '/content/drive/MyDrive/Colab Notebooks/ALma_Better/CAPSTONE_PROJECT/Telecom Churn.csv'\n",
        "df = pd.read_csv(file_path)"
      ],
      "metadata": {
        "colab": {
          "base_uri": "https://localhost:8080/"
        },
        "id": "TEOdKq5giYsj",
        "outputId": "bfbf03b6-dc2f-493d-be58-9a2809735acb"
      },
      "execution_count": null,
      "outputs": [
        {
          "output_type": "stream",
          "name": "stdout",
          "text": [
            "Mounted at /content/drive\n"
          ]
        }
      ]
    },
    {
      "cell_type": "code",
      "source": [
        "# display the the first 15 rows of data set\n",
        "df.head(15)"
      ],
      "metadata": {
        "colab": {
          "base_uri": "https://localhost:8080/",
          "height": 598
        },
        "id": "XsLGrOWbp2Q1",
        "outputId": "904be90d-929d-4072-8fbd-325ff458b1ef"
      },
      "execution_count": null,
      "outputs": [
        {
          "output_type": "execute_result",
          "data": {
            "text/plain": [
              "   State  Account length  Area code International plan Voice mail plan  \\\n",
              "0     KS             128        415                 No             Yes   \n",
              "1     OH             107        415                 No             Yes   \n",
              "2     NJ             137        415                 No              No   \n",
              "3     OH              84        408                Yes              No   \n",
              "4     OK              75        415                Yes              No   \n",
              "5     AL             118        510                Yes              No   \n",
              "6     MA             121        510                 No             Yes   \n",
              "7     MO             147        415                Yes              No   \n",
              "8     LA             117        408                 No              No   \n",
              "9     WV             141        415                Yes             Yes   \n",
              "10    IN              65        415                 No              No   \n",
              "11    RI              74        415                 No              No   \n",
              "12    IA             168        408                 No              No   \n",
              "13    MT              95        510                 No              No   \n",
              "14    IA              62        415                 No              No   \n",
              "\n",
              "    Number vmail messages  Total day minutes  Total day calls  \\\n",
              "0                      25              265.1              110   \n",
              "1                      26              161.6              123   \n",
              "2                       0              243.4              114   \n",
              "3                       0              299.4               71   \n",
              "4                       0              166.7              113   \n",
              "5                       0              223.4               98   \n",
              "6                      24              218.2               88   \n",
              "7                       0              157.0               79   \n",
              "8                       0              184.5               97   \n",
              "9                      37              258.6               84   \n",
              "10                      0              129.1              137   \n",
              "11                      0              187.7              127   \n",
              "12                      0              128.8               96   \n",
              "13                      0              156.6               88   \n",
              "14                      0              120.7               70   \n",
              "\n",
              "    Total day charge  Total eve minutes  Total eve calls  Total eve charge  \\\n",
              "0              45.07              197.4               99             16.78   \n",
              "1              27.47              195.5              103             16.62   \n",
              "2              41.38              121.2              110             10.30   \n",
              "3              50.90               61.9               88              5.26   \n",
              "4              28.34              148.3              122             12.61   \n",
              "5              37.98              220.6              101             18.75   \n",
              "6              37.09              348.5              108             29.62   \n",
              "7              26.69              103.1               94              8.76   \n",
              "8              31.37              351.6               80             29.89   \n",
              "9              43.96              222.0              111             18.87   \n",
              "10             21.95              228.5               83             19.42   \n",
              "11             31.91              163.4              148             13.89   \n",
              "12             21.90              104.9               71              8.92   \n",
              "13             26.62              247.6               75             21.05   \n",
              "14             20.52              307.2               76             26.11   \n",
              "\n",
              "    Total night minutes  Total night calls  Total night charge  \\\n",
              "0                 244.7                 91               11.01   \n",
              "1                 254.4                103               11.45   \n",
              "2                 162.6                104                7.32   \n",
              "3                 196.9                 89                8.86   \n",
              "4                 186.9                121                8.41   \n",
              "5                 203.9                118                9.18   \n",
              "6                 212.6                118                9.57   \n",
              "7                 211.8                 96                9.53   \n",
              "8                 215.8                 90                9.71   \n",
              "9                 326.4                 97               14.69   \n",
              "10                208.8                111                9.40   \n",
              "11                196.0                 94                8.82   \n",
              "12                141.1                128                6.35   \n",
              "13                192.3                115                8.65   \n",
              "14                203.0                 99                9.14   \n",
              "\n",
              "    Total intl minutes  Total intl calls  Total intl charge  \\\n",
              "0                 10.0                 3               2.70   \n",
              "1                 13.7                 3               3.70   \n",
              "2                 12.2                 5               3.29   \n",
              "3                  6.6                 7               1.78   \n",
              "4                 10.1                 3               2.73   \n",
              "5                  6.3                 6               1.70   \n",
              "6                  7.5                 7               2.03   \n",
              "7                  7.1                 6               1.92   \n",
              "8                  8.7                 4               2.35   \n",
              "9                 11.2                 5               3.02   \n",
              "10                12.7                 6               3.43   \n",
              "11                 9.1                 5               2.46   \n",
              "12                11.2                 2               3.02   \n",
              "13                12.3                 5               3.32   \n",
              "14                13.1                 6               3.54   \n",
              "\n",
              "    Customer service calls  Churn  \n",
              "0                        1  False  \n",
              "1                        1  False  \n",
              "2                        0  False  \n",
              "3                        2  False  \n",
              "4                        3  False  \n",
              "5                        0  False  \n",
              "6                        3  False  \n",
              "7                        0  False  \n",
              "8                        1  False  \n",
              "9                        0  False  \n",
              "10                       4   True  \n",
              "11                       0  False  \n",
              "12                       1  False  \n",
              "13                       3  False  \n",
              "14                       4  False  "
            ],
            "text/html": [
              "\n",
              "  <div id=\"df-64590999-5294-4c0e-9c40-e6d6686ea069\">\n",
              "    <div class=\"colab-df-container\">\n",
              "      <div>\n",
              "<style scoped>\n",
              "    .dataframe tbody tr th:only-of-type {\n",
              "        vertical-align: middle;\n",
              "    }\n",
              "\n",
              "    .dataframe tbody tr th {\n",
              "        vertical-align: top;\n",
              "    }\n",
              "\n",
              "    .dataframe thead th {\n",
              "        text-align: right;\n",
              "    }\n",
              "</style>\n",
              "<table border=\"1\" class=\"dataframe\">\n",
              "  <thead>\n",
              "    <tr style=\"text-align: right;\">\n",
              "      <th></th>\n",
              "      <th>State</th>\n",
              "      <th>Account length</th>\n",
              "      <th>Area code</th>\n",
              "      <th>International plan</th>\n",
              "      <th>Voice mail plan</th>\n",
              "      <th>Number vmail messages</th>\n",
              "      <th>Total day minutes</th>\n",
              "      <th>Total day calls</th>\n",
              "      <th>Total day charge</th>\n",
              "      <th>Total eve minutes</th>\n",
              "      <th>Total eve calls</th>\n",
              "      <th>Total eve charge</th>\n",
              "      <th>Total night minutes</th>\n",
              "      <th>Total night calls</th>\n",
              "      <th>Total night charge</th>\n",
              "      <th>Total intl minutes</th>\n",
              "      <th>Total intl calls</th>\n",
              "      <th>Total intl charge</th>\n",
              "      <th>Customer service calls</th>\n",
              "      <th>Churn</th>\n",
              "    </tr>\n",
              "  </thead>\n",
              "  <tbody>\n",
              "    <tr>\n",
              "      <th>0</th>\n",
              "      <td>KS</td>\n",
              "      <td>128</td>\n",
              "      <td>415</td>\n",
              "      <td>No</td>\n",
              "      <td>Yes</td>\n",
              "      <td>25</td>\n",
              "      <td>265.1</td>\n",
              "      <td>110</td>\n",
              "      <td>45.07</td>\n",
              "      <td>197.4</td>\n",
              "      <td>99</td>\n",
              "      <td>16.78</td>\n",
              "      <td>244.7</td>\n",
              "      <td>91</td>\n",
              "      <td>11.01</td>\n",
              "      <td>10.0</td>\n",
              "      <td>3</td>\n",
              "      <td>2.70</td>\n",
              "      <td>1</td>\n",
              "      <td>False</td>\n",
              "    </tr>\n",
              "    <tr>\n",
              "      <th>1</th>\n",
              "      <td>OH</td>\n",
              "      <td>107</td>\n",
              "      <td>415</td>\n",
              "      <td>No</td>\n",
              "      <td>Yes</td>\n",
              "      <td>26</td>\n",
              "      <td>161.6</td>\n",
              "      <td>123</td>\n",
              "      <td>27.47</td>\n",
              "      <td>195.5</td>\n",
              "      <td>103</td>\n",
              "      <td>16.62</td>\n",
              "      <td>254.4</td>\n",
              "      <td>103</td>\n",
              "      <td>11.45</td>\n",
              "      <td>13.7</td>\n",
              "      <td>3</td>\n",
              "      <td>3.70</td>\n",
              "      <td>1</td>\n",
              "      <td>False</td>\n",
              "    </tr>\n",
              "    <tr>\n",
              "      <th>2</th>\n",
              "      <td>NJ</td>\n",
              "      <td>137</td>\n",
              "      <td>415</td>\n",
              "      <td>No</td>\n",
              "      <td>No</td>\n",
              "      <td>0</td>\n",
              "      <td>243.4</td>\n",
              "      <td>114</td>\n",
              "      <td>41.38</td>\n",
              "      <td>121.2</td>\n",
              "      <td>110</td>\n",
              "      <td>10.30</td>\n",
              "      <td>162.6</td>\n",
              "      <td>104</td>\n",
              "      <td>7.32</td>\n",
              "      <td>12.2</td>\n",
              "      <td>5</td>\n",
              "      <td>3.29</td>\n",
              "      <td>0</td>\n",
              "      <td>False</td>\n",
              "    </tr>\n",
              "    <tr>\n",
              "      <th>3</th>\n",
              "      <td>OH</td>\n",
              "      <td>84</td>\n",
              "      <td>408</td>\n",
              "      <td>Yes</td>\n",
              "      <td>No</td>\n",
              "      <td>0</td>\n",
              "      <td>299.4</td>\n",
              "      <td>71</td>\n",
              "      <td>50.90</td>\n",
              "      <td>61.9</td>\n",
              "      <td>88</td>\n",
              "      <td>5.26</td>\n",
              "      <td>196.9</td>\n",
              "      <td>89</td>\n",
              "      <td>8.86</td>\n",
              "      <td>6.6</td>\n",
              "      <td>7</td>\n",
              "      <td>1.78</td>\n",
              "      <td>2</td>\n",
              "      <td>False</td>\n",
              "    </tr>\n",
              "    <tr>\n",
              "      <th>4</th>\n",
              "      <td>OK</td>\n",
              "      <td>75</td>\n",
              "      <td>415</td>\n",
              "      <td>Yes</td>\n",
              "      <td>No</td>\n",
              "      <td>0</td>\n",
              "      <td>166.7</td>\n",
              "      <td>113</td>\n",
              "      <td>28.34</td>\n",
              "      <td>148.3</td>\n",
              "      <td>122</td>\n",
              "      <td>12.61</td>\n",
              "      <td>186.9</td>\n",
              "      <td>121</td>\n",
              "      <td>8.41</td>\n",
              "      <td>10.1</td>\n",
              "      <td>3</td>\n",
              "      <td>2.73</td>\n",
              "      <td>3</td>\n",
              "      <td>False</td>\n",
              "    </tr>\n",
              "    <tr>\n",
              "      <th>5</th>\n",
              "      <td>AL</td>\n",
              "      <td>118</td>\n",
              "      <td>510</td>\n",
              "      <td>Yes</td>\n",
              "      <td>No</td>\n",
              "      <td>0</td>\n",
              "      <td>223.4</td>\n",
              "      <td>98</td>\n",
              "      <td>37.98</td>\n",
              "      <td>220.6</td>\n",
              "      <td>101</td>\n",
              "      <td>18.75</td>\n",
              "      <td>203.9</td>\n",
              "      <td>118</td>\n",
              "      <td>9.18</td>\n",
              "      <td>6.3</td>\n",
              "      <td>6</td>\n",
              "      <td>1.70</td>\n",
              "      <td>0</td>\n",
              "      <td>False</td>\n",
              "    </tr>\n",
              "    <tr>\n",
              "      <th>6</th>\n",
              "      <td>MA</td>\n",
              "      <td>121</td>\n",
              "      <td>510</td>\n",
              "      <td>No</td>\n",
              "      <td>Yes</td>\n",
              "      <td>24</td>\n",
              "      <td>218.2</td>\n",
              "      <td>88</td>\n",
              "      <td>37.09</td>\n",
              "      <td>348.5</td>\n",
              "      <td>108</td>\n",
              "      <td>29.62</td>\n",
              "      <td>212.6</td>\n",
              "      <td>118</td>\n",
              "      <td>9.57</td>\n",
              "      <td>7.5</td>\n",
              "      <td>7</td>\n",
              "      <td>2.03</td>\n",
              "      <td>3</td>\n",
              "      <td>False</td>\n",
              "    </tr>\n",
              "    <tr>\n",
              "      <th>7</th>\n",
              "      <td>MO</td>\n",
              "      <td>147</td>\n",
              "      <td>415</td>\n",
              "      <td>Yes</td>\n",
              "      <td>No</td>\n",
              "      <td>0</td>\n",
              "      <td>157.0</td>\n",
              "      <td>79</td>\n",
              "      <td>26.69</td>\n",
              "      <td>103.1</td>\n",
              "      <td>94</td>\n",
              "      <td>8.76</td>\n",
              "      <td>211.8</td>\n",
              "      <td>96</td>\n",
              "      <td>9.53</td>\n",
              "      <td>7.1</td>\n",
              "      <td>6</td>\n",
              "      <td>1.92</td>\n",
              "      <td>0</td>\n",
              "      <td>False</td>\n",
              "    </tr>\n",
              "    <tr>\n",
              "      <th>8</th>\n",
              "      <td>LA</td>\n",
              "      <td>117</td>\n",
              "      <td>408</td>\n",
              "      <td>No</td>\n",
              "      <td>No</td>\n",
              "      <td>0</td>\n",
              "      <td>184.5</td>\n",
              "      <td>97</td>\n",
              "      <td>31.37</td>\n",
              "      <td>351.6</td>\n",
              "      <td>80</td>\n",
              "      <td>29.89</td>\n",
              "      <td>215.8</td>\n",
              "      <td>90</td>\n",
              "      <td>9.71</td>\n",
              "      <td>8.7</td>\n",
              "      <td>4</td>\n",
              "      <td>2.35</td>\n",
              "      <td>1</td>\n",
              "      <td>False</td>\n",
              "    </tr>\n",
              "    <tr>\n",
              "      <th>9</th>\n",
              "      <td>WV</td>\n",
              "      <td>141</td>\n",
              "      <td>415</td>\n",
              "      <td>Yes</td>\n",
              "      <td>Yes</td>\n",
              "      <td>37</td>\n",
              "      <td>258.6</td>\n",
              "      <td>84</td>\n",
              "      <td>43.96</td>\n",
              "      <td>222.0</td>\n",
              "      <td>111</td>\n",
              "      <td>18.87</td>\n",
              "      <td>326.4</td>\n",
              "      <td>97</td>\n",
              "      <td>14.69</td>\n",
              "      <td>11.2</td>\n",
              "      <td>5</td>\n",
              "      <td>3.02</td>\n",
              "      <td>0</td>\n",
              "      <td>False</td>\n",
              "    </tr>\n",
              "    <tr>\n",
              "      <th>10</th>\n",
              "      <td>IN</td>\n",
              "      <td>65</td>\n",
              "      <td>415</td>\n",
              "      <td>No</td>\n",
              "      <td>No</td>\n",
              "      <td>0</td>\n",
              "      <td>129.1</td>\n",
              "      <td>137</td>\n",
              "      <td>21.95</td>\n",
              "      <td>228.5</td>\n",
              "      <td>83</td>\n",
              "      <td>19.42</td>\n",
              "      <td>208.8</td>\n",
              "      <td>111</td>\n",
              "      <td>9.40</td>\n",
              "      <td>12.7</td>\n",
              "      <td>6</td>\n",
              "      <td>3.43</td>\n",
              "      <td>4</td>\n",
              "      <td>True</td>\n",
              "    </tr>\n",
              "    <tr>\n",
              "      <th>11</th>\n",
              "      <td>RI</td>\n",
              "      <td>74</td>\n",
              "      <td>415</td>\n",
              "      <td>No</td>\n",
              "      <td>No</td>\n",
              "      <td>0</td>\n",
              "      <td>187.7</td>\n",
              "      <td>127</td>\n",
              "      <td>31.91</td>\n",
              "      <td>163.4</td>\n",
              "      <td>148</td>\n",
              "      <td>13.89</td>\n",
              "      <td>196.0</td>\n",
              "      <td>94</td>\n",
              "      <td>8.82</td>\n",
              "      <td>9.1</td>\n",
              "      <td>5</td>\n",
              "      <td>2.46</td>\n",
              "      <td>0</td>\n",
              "      <td>False</td>\n",
              "    </tr>\n",
              "    <tr>\n",
              "      <th>12</th>\n",
              "      <td>IA</td>\n",
              "      <td>168</td>\n",
              "      <td>408</td>\n",
              "      <td>No</td>\n",
              "      <td>No</td>\n",
              "      <td>0</td>\n",
              "      <td>128.8</td>\n",
              "      <td>96</td>\n",
              "      <td>21.90</td>\n",
              "      <td>104.9</td>\n",
              "      <td>71</td>\n",
              "      <td>8.92</td>\n",
              "      <td>141.1</td>\n",
              "      <td>128</td>\n",
              "      <td>6.35</td>\n",
              "      <td>11.2</td>\n",
              "      <td>2</td>\n",
              "      <td>3.02</td>\n",
              "      <td>1</td>\n",
              "      <td>False</td>\n",
              "    </tr>\n",
              "    <tr>\n",
              "      <th>13</th>\n",
              "      <td>MT</td>\n",
              "      <td>95</td>\n",
              "      <td>510</td>\n",
              "      <td>No</td>\n",
              "      <td>No</td>\n",
              "      <td>0</td>\n",
              "      <td>156.6</td>\n",
              "      <td>88</td>\n",
              "      <td>26.62</td>\n",
              "      <td>247.6</td>\n",
              "      <td>75</td>\n",
              "      <td>21.05</td>\n",
              "      <td>192.3</td>\n",
              "      <td>115</td>\n",
              "      <td>8.65</td>\n",
              "      <td>12.3</td>\n",
              "      <td>5</td>\n",
              "      <td>3.32</td>\n",
              "      <td>3</td>\n",
              "      <td>False</td>\n",
              "    </tr>\n",
              "    <tr>\n",
              "      <th>14</th>\n",
              "      <td>IA</td>\n",
              "      <td>62</td>\n",
              "      <td>415</td>\n",
              "      <td>No</td>\n",
              "      <td>No</td>\n",
              "      <td>0</td>\n",
              "      <td>120.7</td>\n",
              "      <td>70</td>\n",
              "      <td>20.52</td>\n",
              "      <td>307.2</td>\n",
              "      <td>76</td>\n",
              "      <td>26.11</td>\n",
              "      <td>203.0</td>\n",
              "      <td>99</td>\n",
              "      <td>9.14</td>\n",
              "      <td>13.1</td>\n",
              "      <td>6</td>\n",
              "      <td>3.54</td>\n",
              "      <td>4</td>\n",
              "      <td>False</td>\n",
              "    </tr>\n",
              "  </tbody>\n",
              "</table>\n",
              "</div>\n",
              "      <button class=\"colab-df-convert\" onclick=\"convertToInteractive('df-64590999-5294-4c0e-9c40-e6d6686ea069')\"\n",
              "              title=\"Convert this dataframe to an interactive table.\"\n",
              "              style=\"display:none;\">\n",
              "        \n",
              "  <svg xmlns=\"http://www.w3.org/2000/svg\" height=\"24px\"viewBox=\"0 0 24 24\"\n",
              "       width=\"24px\">\n",
              "    <path d=\"M0 0h24v24H0V0z\" fill=\"none\"/>\n",
              "    <path d=\"M18.56 5.44l.94 2.06.94-2.06 2.06-.94-2.06-.94-.94-2.06-.94 2.06-2.06.94zm-11 1L8.5 8.5l.94-2.06 2.06-.94-2.06-.94L8.5 2.5l-.94 2.06-2.06.94zm10 10l.94 2.06.94-2.06 2.06-.94-2.06-.94-.94-2.06-.94 2.06-2.06.94z\"/><path d=\"M17.41 7.96l-1.37-1.37c-.4-.4-.92-.59-1.43-.59-.52 0-1.04.2-1.43.59L10.3 9.45l-7.72 7.72c-.78.78-.78 2.05 0 2.83L4 21.41c.39.39.9.59 1.41.59.51 0 1.02-.2 1.41-.59l7.78-7.78 2.81-2.81c.8-.78.8-2.07 0-2.86zM5.41 20L4 18.59l7.72-7.72 1.47 1.35L5.41 20z\"/>\n",
              "  </svg>\n",
              "      </button>\n",
              "      \n",
              "  <style>\n",
              "    .colab-df-container {\n",
              "      display:flex;\n",
              "      flex-wrap:wrap;\n",
              "      gap: 12px;\n",
              "    }\n",
              "\n",
              "    .colab-df-convert {\n",
              "      background-color: #E8F0FE;\n",
              "      border: none;\n",
              "      border-radius: 50%;\n",
              "      cursor: pointer;\n",
              "      display: none;\n",
              "      fill: #1967D2;\n",
              "      height: 32px;\n",
              "      padding: 0 0 0 0;\n",
              "      width: 32px;\n",
              "    }\n",
              "\n",
              "    .colab-df-convert:hover {\n",
              "      background-color: #E2EBFA;\n",
              "      box-shadow: 0px 1px 2px rgba(60, 64, 67, 0.3), 0px 1px 3px 1px rgba(60, 64, 67, 0.15);\n",
              "      fill: #174EA6;\n",
              "    }\n",
              "\n",
              "    [theme=dark] .colab-df-convert {\n",
              "      background-color: #3B4455;\n",
              "      fill: #D2E3FC;\n",
              "    }\n",
              "\n",
              "    [theme=dark] .colab-df-convert:hover {\n",
              "      background-color: #434B5C;\n",
              "      box-shadow: 0px 1px 3px 1px rgba(0, 0, 0, 0.15);\n",
              "      filter: drop-shadow(0px 1px 2px rgba(0, 0, 0, 0.3));\n",
              "      fill: #FFFFFF;\n",
              "    }\n",
              "  </style>\n",
              "\n",
              "      <script>\n",
              "        const buttonEl =\n",
              "          document.querySelector('#df-64590999-5294-4c0e-9c40-e6d6686ea069 button.colab-df-convert');\n",
              "        buttonEl.style.display =\n",
              "          google.colab.kernel.accessAllowed ? 'block' : 'none';\n",
              "\n",
              "        async function convertToInteractive(key) {\n",
              "          const element = document.querySelector('#df-64590999-5294-4c0e-9c40-e6d6686ea069');\n",
              "          const dataTable =\n",
              "            await google.colab.kernel.invokeFunction('convertToInteractive',\n",
              "                                                     [key], {});\n",
              "          if (!dataTable) return;\n",
              "\n",
              "          const docLinkHtml = 'Like what you see? Visit the ' +\n",
              "            '<a target=\"_blank\" href=https://colab.research.google.com/notebooks/data_table.ipynb>data table notebook</a>'\n",
              "            + ' to learn more about interactive tables.';\n",
              "          element.innerHTML = '';\n",
              "          dataTable['output_type'] = 'display_data';\n",
              "          await google.colab.output.renderOutput(dataTable, element);\n",
              "          const docLink = document.createElement('div');\n",
              "          docLink.innerHTML = docLinkHtml;\n",
              "          element.appendChild(docLink);\n",
              "        }\n",
              "      </script>\n",
              "    </div>\n",
              "  </div>\n",
              "  "
            ]
          },
          "metadata": {},
          "execution_count": 3
        }
      ]
    },
    {
      "cell_type": "markdown",
      "source": [
        "# **Exploring the given data**"
      ],
      "metadata": {
        "id": "CGY6JzamuEgk"
      }
    },
    {
      "cell_type": "markdown",
      "source": [],
      "metadata": {
        "id": "L4YscwJJX_M0"
      }
    },
    {
      "cell_type": "code",
      "source": [
        "df.info()"
      ],
      "metadata": {
        "colab": {
          "base_uri": "https://localhost:8080/"
        },
        "id": "4dOElLh4uPDM",
        "outputId": "b6618296-5241-421d-d069-2a120dbdfa01"
      },
      "execution_count": null,
      "outputs": [
        {
          "output_type": "stream",
          "name": "stdout",
          "text": [
            "<class 'pandas.core.frame.DataFrame'>\n",
            "RangeIndex: 3333 entries, 0 to 3332\n",
            "Data columns (total 20 columns):\n",
            " #   Column                  Non-Null Count  Dtype  \n",
            "---  ------                  --------------  -----  \n",
            " 0   State                   3333 non-null   object \n",
            " 1   Account length          3333 non-null   int64  \n",
            " 2   Area code               3333 non-null   int64  \n",
            " 3   International plan      3333 non-null   object \n",
            " 4   Voice mail plan         3333 non-null   object \n",
            " 5   Number vmail messages   3333 non-null   int64  \n",
            " 6   Total day minutes       3333 non-null   float64\n",
            " 7   Total day calls         3333 non-null   int64  \n",
            " 8   Total day charge        3333 non-null   float64\n",
            " 9   Total eve minutes       3333 non-null   float64\n",
            " 10  Total eve calls         3333 non-null   int64  \n",
            " 11  Total eve charge        3333 non-null   float64\n",
            " 12  Total night minutes     3333 non-null   float64\n",
            " 13  Total night calls       3333 non-null   int64  \n",
            " 14  Total night charge      3333 non-null   float64\n",
            " 15  Total intl minutes      3333 non-null   float64\n",
            " 16  Total intl calls        3333 non-null   int64  \n",
            " 17  Total intl charge       3333 non-null   float64\n",
            " 18  Customer service calls  3333 non-null   int64  \n",
            " 19  Churn                   3333 non-null   bool   \n",
            "dtypes: bool(1), float64(8), int64(8), object(3)\n",
            "memory usage: 498.1+ KB\n"
          ]
        }
      ]
    },
    {
      "cell_type": "code",
      "source": [
        "df.shape"
      ],
      "metadata": {
        "colab": {
          "base_uri": "https://localhost:8080/"
        },
        "id": "3PrzvF8OumpE",
        "outputId": "2a5a4e80-97d9-4d3f-84de-aac71a7849bb"
      },
      "execution_count": null,
      "outputs": [
        {
          "output_type": "execute_result",
          "data": {
            "text/plain": [
              "(3333, 20)"
            ]
          },
          "metadata": {},
          "execution_count": 5
        }
      ]
    },
    {
      "cell_type": "code",
      "source": [
        "# understanding the data better\n",
        "df.nunique()"
      ],
      "metadata": {
        "colab": {
          "base_uri": "https://localhost:8080/"
        },
        "id": "ZE0Z4Nkv6buH",
        "outputId": "bcf237e7-44d0-4af8-d91a-f2a9b84b5e71"
      },
      "execution_count": null,
      "outputs": [
        {
          "output_type": "execute_result",
          "data": {
            "text/plain": [
              "State                       51\n",
              "Account length             212\n",
              "Area code                    3\n",
              "International plan           2\n",
              "Voice mail plan              2\n",
              "Number vmail messages       46\n",
              "Total day minutes         1667\n",
              "Total day calls            119\n",
              "Total day charge          1667\n",
              "Total eve minutes         1611\n",
              "Total eve calls            123\n",
              "Total eve charge          1440\n",
              "Total night minutes       1591\n",
              "Total night calls          120\n",
              "Total night charge         933\n",
              "Total intl minutes         162\n",
              "Total intl calls            21\n",
              "Total intl charge          162\n",
              "Customer service calls      10\n",
              "Churn                        2\n",
              "dtype: int64"
            ]
          },
          "metadata": {},
          "execution_count": 6
        }
      ]
    },
    {
      "cell_type": "markdown",
      "source": [
        "**Inferences from given data:**\n",
        "1. Data is from **51 different states of USA**\n",
        "2. Account length of customer has 212 unique entries. Where **account length refers to the number of the days account has been active**.\n",
        "3. Data pertains to *3 locations as per the Area code*.\n",
        "4. Data **includes both the customers who have and have not opted for International Calling plans**.\n",
        "5. Data also includes both types of customers who are and are not using *Voice mails*.\n",
        "6. Data has details of *number of time voice mails* facilities has been used by the customer.\n",
        "7. Data also includes detailed calling information of customers in terms of total calling minutes (durning days or night or in International-calls), *charges* etc.\n",
        "8. Data also includes the **Churn-Status** of the customers."
      ],
      "metadata": {
        "id": "ySo92Knv7Hj3"
      }
    },
    {
      "cell_type": "code",
      "source": [
        "df.describe()"
      ],
      "metadata": {
        "colab": {
          "base_uri": "https://localhost:8080/",
          "height": 362
        },
        "id": "eMK-o0WKvJQQ",
        "outputId": "168d51c0-0c97-46bb-d5a4-114bc383bcad"
      },
      "execution_count": null,
      "outputs": [
        {
          "output_type": "execute_result",
          "data": {
            "text/plain": [
              "       Account length    Area code  Number vmail messages  Total day minutes  \\\n",
              "count     3333.000000  3333.000000            3333.000000        3333.000000   \n",
              "mean       101.064806   437.182418               8.099010         179.775098   \n",
              "std         39.822106    42.371290              13.688365          54.467389   \n",
              "min          1.000000   408.000000               0.000000           0.000000   \n",
              "25%         74.000000   408.000000               0.000000         143.700000   \n",
              "50%        101.000000   415.000000               0.000000         179.400000   \n",
              "75%        127.000000   510.000000              20.000000         216.400000   \n",
              "max        243.000000   510.000000              51.000000         350.800000   \n",
              "\n",
              "       Total day calls  Total day charge  Total eve minutes  Total eve calls  \\\n",
              "count      3333.000000       3333.000000        3333.000000      3333.000000   \n",
              "mean        100.435644         30.562307         200.980348       100.114311   \n",
              "std          20.069084          9.259435          50.713844        19.922625   \n",
              "min           0.000000          0.000000           0.000000         0.000000   \n",
              "25%          87.000000         24.430000         166.600000        87.000000   \n",
              "50%         101.000000         30.500000         201.400000       100.000000   \n",
              "75%         114.000000         36.790000         235.300000       114.000000   \n",
              "max         165.000000         59.640000         363.700000       170.000000   \n",
              "\n",
              "       Total eve charge  Total night minutes  Total night calls  \\\n",
              "count       3333.000000          3333.000000        3333.000000   \n",
              "mean          17.083540           200.872037         100.107711   \n",
              "std            4.310668            50.573847          19.568609   \n",
              "min            0.000000            23.200000          33.000000   \n",
              "25%           14.160000           167.000000          87.000000   \n",
              "50%           17.120000           201.200000         100.000000   \n",
              "75%           20.000000           235.300000         113.000000   \n",
              "max           30.910000           395.000000         175.000000   \n",
              "\n",
              "       Total night charge  Total intl minutes  Total intl calls  \\\n",
              "count         3333.000000         3333.000000       3333.000000   \n",
              "mean             9.039325           10.237294          4.479448   \n",
              "std              2.275873            2.791840          2.461214   \n",
              "min              1.040000            0.000000          0.000000   \n",
              "25%              7.520000            8.500000          3.000000   \n",
              "50%              9.050000           10.300000          4.000000   \n",
              "75%             10.590000           12.100000          6.000000   \n",
              "max             17.770000           20.000000         20.000000   \n",
              "\n",
              "       Total intl charge  Customer service calls  \n",
              "count        3333.000000             3333.000000  \n",
              "mean            2.764581                1.562856  \n",
              "std             0.753773                1.315491  \n",
              "min             0.000000                0.000000  \n",
              "25%             2.300000                1.000000  \n",
              "50%             2.780000                1.000000  \n",
              "75%             3.270000                2.000000  \n",
              "max             5.400000                9.000000  "
            ],
            "text/html": [
              "\n",
              "  <div id=\"df-8fc6505c-877f-48dc-bb72-bfbd51bc7907\">\n",
              "    <div class=\"colab-df-container\">\n",
              "      <div>\n",
              "<style scoped>\n",
              "    .dataframe tbody tr th:only-of-type {\n",
              "        vertical-align: middle;\n",
              "    }\n",
              "\n",
              "    .dataframe tbody tr th {\n",
              "        vertical-align: top;\n",
              "    }\n",
              "\n",
              "    .dataframe thead th {\n",
              "        text-align: right;\n",
              "    }\n",
              "</style>\n",
              "<table border=\"1\" class=\"dataframe\">\n",
              "  <thead>\n",
              "    <tr style=\"text-align: right;\">\n",
              "      <th></th>\n",
              "      <th>Account length</th>\n",
              "      <th>Area code</th>\n",
              "      <th>Number vmail messages</th>\n",
              "      <th>Total day minutes</th>\n",
              "      <th>Total day calls</th>\n",
              "      <th>Total day charge</th>\n",
              "      <th>Total eve minutes</th>\n",
              "      <th>Total eve calls</th>\n",
              "      <th>Total eve charge</th>\n",
              "      <th>Total night minutes</th>\n",
              "      <th>Total night calls</th>\n",
              "      <th>Total night charge</th>\n",
              "      <th>Total intl minutes</th>\n",
              "      <th>Total intl calls</th>\n",
              "      <th>Total intl charge</th>\n",
              "      <th>Customer service calls</th>\n",
              "    </tr>\n",
              "  </thead>\n",
              "  <tbody>\n",
              "    <tr>\n",
              "      <th>count</th>\n",
              "      <td>3333.000000</td>\n",
              "      <td>3333.000000</td>\n",
              "      <td>3333.000000</td>\n",
              "      <td>3333.000000</td>\n",
              "      <td>3333.000000</td>\n",
              "      <td>3333.000000</td>\n",
              "      <td>3333.000000</td>\n",
              "      <td>3333.000000</td>\n",
              "      <td>3333.000000</td>\n",
              "      <td>3333.000000</td>\n",
              "      <td>3333.000000</td>\n",
              "      <td>3333.000000</td>\n",
              "      <td>3333.000000</td>\n",
              "      <td>3333.000000</td>\n",
              "      <td>3333.000000</td>\n",
              "      <td>3333.000000</td>\n",
              "    </tr>\n",
              "    <tr>\n",
              "      <th>mean</th>\n",
              "      <td>101.064806</td>\n",
              "      <td>437.182418</td>\n",
              "      <td>8.099010</td>\n",
              "      <td>179.775098</td>\n",
              "      <td>100.435644</td>\n",
              "      <td>30.562307</td>\n",
              "      <td>200.980348</td>\n",
              "      <td>100.114311</td>\n",
              "      <td>17.083540</td>\n",
              "      <td>200.872037</td>\n",
              "      <td>100.107711</td>\n",
              "      <td>9.039325</td>\n",
              "      <td>10.237294</td>\n",
              "      <td>4.479448</td>\n",
              "      <td>2.764581</td>\n",
              "      <td>1.562856</td>\n",
              "    </tr>\n",
              "    <tr>\n",
              "      <th>std</th>\n",
              "      <td>39.822106</td>\n",
              "      <td>42.371290</td>\n",
              "      <td>13.688365</td>\n",
              "      <td>54.467389</td>\n",
              "      <td>20.069084</td>\n",
              "      <td>9.259435</td>\n",
              "      <td>50.713844</td>\n",
              "      <td>19.922625</td>\n",
              "      <td>4.310668</td>\n",
              "      <td>50.573847</td>\n",
              "      <td>19.568609</td>\n",
              "      <td>2.275873</td>\n",
              "      <td>2.791840</td>\n",
              "      <td>2.461214</td>\n",
              "      <td>0.753773</td>\n",
              "      <td>1.315491</td>\n",
              "    </tr>\n",
              "    <tr>\n",
              "      <th>min</th>\n",
              "      <td>1.000000</td>\n",
              "      <td>408.000000</td>\n",
              "      <td>0.000000</td>\n",
              "      <td>0.000000</td>\n",
              "      <td>0.000000</td>\n",
              "      <td>0.000000</td>\n",
              "      <td>0.000000</td>\n",
              "      <td>0.000000</td>\n",
              "      <td>0.000000</td>\n",
              "      <td>23.200000</td>\n",
              "      <td>33.000000</td>\n",
              "      <td>1.040000</td>\n",
              "      <td>0.000000</td>\n",
              "      <td>0.000000</td>\n",
              "      <td>0.000000</td>\n",
              "      <td>0.000000</td>\n",
              "    </tr>\n",
              "    <tr>\n",
              "      <th>25%</th>\n",
              "      <td>74.000000</td>\n",
              "      <td>408.000000</td>\n",
              "      <td>0.000000</td>\n",
              "      <td>143.700000</td>\n",
              "      <td>87.000000</td>\n",
              "      <td>24.430000</td>\n",
              "      <td>166.600000</td>\n",
              "      <td>87.000000</td>\n",
              "      <td>14.160000</td>\n",
              "      <td>167.000000</td>\n",
              "      <td>87.000000</td>\n",
              "      <td>7.520000</td>\n",
              "      <td>8.500000</td>\n",
              "      <td>3.000000</td>\n",
              "      <td>2.300000</td>\n",
              "      <td>1.000000</td>\n",
              "    </tr>\n",
              "    <tr>\n",
              "      <th>50%</th>\n",
              "      <td>101.000000</td>\n",
              "      <td>415.000000</td>\n",
              "      <td>0.000000</td>\n",
              "      <td>179.400000</td>\n",
              "      <td>101.000000</td>\n",
              "      <td>30.500000</td>\n",
              "      <td>201.400000</td>\n",
              "      <td>100.000000</td>\n",
              "      <td>17.120000</td>\n",
              "      <td>201.200000</td>\n",
              "      <td>100.000000</td>\n",
              "      <td>9.050000</td>\n",
              "      <td>10.300000</td>\n",
              "      <td>4.000000</td>\n",
              "      <td>2.780000</td>\n",
              "      <td>1.000000</td>\n",
              "    </tr>\n",
              "    <tr>\n",
              "      <th>75%</th>\n",
              "      <td>127.000000</td>\n",
              "      <td>510.000000</td>\n",
              "      <td>20.000000</td>\n",
              "      <td>216.400000</td>\n",
              "      <td>114.000000</td>\n",
              "      <td>36.790000</td>\n",
              "      <td>235.300000</td>\n",
              "      <td>114.000000</td>\n",
              "      <td>20.000000</td>\n",
              "      <td>235.300000</td>\n",
              "      <td>113.000000</td>\n",
              "      <td>10.590000</td>\n",
              "      <td>12.100000</td>\n",
              "      <td>6.000000</td>\n",
              "      <td>3.270000</td>\n",
              "      <td>2.000000</td>\n",
              "    </tr>\n",
              "    <tr>\n",
              "      <th>max</th>\n",
              "      <td>243.000000</td>\n",
              "      <td>510.000000</td>\n",
              "      <td>51.000000</td>\n",
              "      <td>350.800000</td>\n",
              "      <td>165.000000</td>\n",
              "      <td>59.640000</td>\n",
              "      <td>363.700000</td>\n",
              "      <td>170.000000</td>\n",
              "      <td>30.910000</td>\n",
              "      <td>395.000000</td>\n",
              "      <td>175.000000</td>\n",
              "      <td>17.770000</td>\n",
              "      <td>20.000000</td>\n",
              "      <td>20.000000</td>\n",
              "      <td>5.400000</td>\n",
              "      <td>9.000000</td>\n",
              "    </tr>\n",
              "  </tbody>\n",
              "</table>\n",
              "</div>\n",
              "      <button class=\"colab-df-convert\" onclick=\"convertToInteractive('df-8fc6505c-877f-48dc-bb72-bfbd51bc7907')\"\n",
              "              title=\"Convert this dataframe to an interactive table.\"\n",
              "              style=\"display:none;\">\n",
              "        \n",
              "  <svg xmlns=\"http://www.w3.org/2000/svg\" height=\"24px\"viewBox=\"0 0 24 24\"\n",
              "       width=\"24px\">\n",
              "    <path d=\"M0 0h24v24H0V0z\" fill=\"none\"/>\n",
              "    <path d=\"M18.56 5.44l.94 2.06.94-2.06 2.06-.94-2.06-.94-.94-2.06-.94 2.06-2.06.94zm-11 1L8.5 8.5l.94-2.06 2.06-.94-2.06-.94L8.5 2.5l-.94 2.06-2.06.94zm10 10l.94 2.06.94-2.06 2.06-.94-2.06-.94-.94-2.06-.94 2.06-2.06.94z\"/><path d=\"M17.41 7.96l-1.37-1.37c-.4-.4-.92-.59-1.43-.59-.52 0-1.04.2-1.43.59L10.3 9.45l-7.72 7.72c-.78.78-.78 2.05 0 2.83L4 21.41c.39.39.9.59 1.41.59.51 0 1.02-.2 1.41-.59l7.78-7.78 2.81-2.81c.8-.78.8-2.07 0-2.86zM5.41 20L4 18.59l7.72-7.72 1.47 1.35L5.41 20z\"/>\n",
              "  </svg>\n",
              "      </button>\n",
              "      \n",
              "  <style>\n",
              "    .colab-df-container {\n",
              "      display:flex;\n",
              "      flex-wrap:wrap;\n",
              "      gap: 12px;\n",
              "    }\n",
              "\n",
              "    .colab-df-convert {\n",
              "      background-color: #E8F0FE;\n",
              "      border: none;\n",
              "      border-radius: 50%;\n",
              "      cursor: pointer;\n",
              "      display: none;\n",
              "      fill: #1967D2;\n",
              "      height: 32px;\n",
              "      padding: 0 0 0 0;\n",
              "      width: 32px;\n",
              "    }\n",
              "\n",
              "    .colab-df-convert:hover {\n",
              "      background-color: #E2EBFA;\n",
              "      box-shadow: 0px 1px 2px rgba(60, 64, 67, 0.3), 0px 1px 3px 1px rgba(60, 64, 67, 0.15);\n",
              "      fill: #174EA6;\n",
              "    }\n",
              "\n",
              "    [theme=dark] .colab-df-convert {\n",
              "      background-color: #3B4455;\n",
              "      fill: #D2E3FC;\n",
              "    }\n",
              "\n",
              "    [theme=dark] .colab-df-convert:hover {\n",
              "      background-color: #434B5C;\n",
              "      box-shadow: 0px 1px 3px 1px rgba(0, 0, 0, 0.15);\n",
              "      filter: drop-shadow(0px 1px 2px rgba(0, 0, 0, 0.3));\n",
              "      fill: #FFFFFF;\n",
              "    }\n",
              "  </style>\n",
              "\n",
              "      <script>\n",
              "        const buttonEl =\n",
              "          document.querySelector('#df-8fc6505c-877f-48dc-bb72-bfbd51bc7907 button.colab-df-convert');\n",
              "        buttonEl.style.display =\n",
              "          google.colab.kernel.accessAllowed ? 'block' : 'none';\n",
              "\n",
              "        async function convertToInteractive(key) {\n",
              "          const element = document.querySelector('#df-8fc6505c-877f-48dc-bb72-bfbd51bc7907');\n",
              "          const dataTable =\n",
              "            await google.colab.kernel.invokeFunction('convertToInteractive',\n",
              "                                                     [key], {});\n",
              "          if (!dataTable) return;\n",
              "\n",
              "          const docLinkHtml = 'Like what you see? Visit the ' +\n",
              "            '<a target=\"_blank\" href=https://colab.research.google.com/notebooks/data_table.ipynb>data table notebook</a>'\n",
              "            + ' to learn more about interactive tables.';\n",
              "          element.innerHTML = '';\n",
              "          dataTable['output_type'] = 'display_data';\n",
              "          await google.colab.output.renderOutput(dataTable, element);\n",
              "          const docLink = document.createElement('div');\n",
              "          docLink.innerHTML = docLinkHtml;\n",
              "          element.appendChild(docLink);\n",
              "        }\n",
              "      </script>\n",
              "    </div>\n",
              "  </div>\n",
              "  "
            ]
          },
          "metadata": {},
          "execution_count": 7
        }
      ]
    },
    {
      "cell_type": "code",
      "source": [
        "df_churned=df[df['Churn']==True]\n",
        "df_churned"
      ],
      "metadata": {
        "colab": {
          "base_uri": "https://localhost:8080/",
          "height": 502
        },
        "id": "G5tcF8qD4lTG",
        "outputId": "aeef6cda-0776-4bf5-ddcb-da95db740a81"
      },
      "execution_count": null,
      "outputs": [
        {
          "output_type": "execute_result",
          "data": {
            "text/plain": [
              "     State  Account length  Area code International plan Voice mail plan  \\\n",
              "10      IN              65        415                 No              No   \n",
              "15      NY             161        415                 No              No   \n",
              "21      CO              77        408                 No              No   \n",
              "33      AZ              12        408                 No              No   \n",
              "41      MD             135        408                Yes             Yes   \n",
              "...    ...             ...        ...                ...             ...   \n",
              "3301    CA              84        415                 No              No   \n",
              "3304    IL              71        510                Yes              No   \n",
              "3320    GA             122        510                Yes              No   \n",
              "3322    MD              62        408                 No              No   \n",
              "3323    IN             117        415                 No              No   \n",
              "\n",
              "      Number vmail messages  Total day minutes  Total day calls  \\\n",
              "10                        0              129.1              137   \n",
              "15                        0              332.9               67   \n",
              "21                        0               62.4               89   \n",
              "33                        0              249.6              118   \n",
              "41                       41              173.1               85   \n",
              "...                     ...                ...              ...   \n",
              "3301                      0              280.0              113   \n",
              "3304                      0              186.1              114   \n",
              "3320                      0              140.0              101   \n",
              "3322                      0              321.1              105   \n",
              "3323                      0              118.4              126   \n",
              "\n",
              "      Total day charge  Total eve minutes  Total eve calls  Total eve charge  \\\n",
              "10               21.95              228.5               83             19.42   \n",
              "15               56.59              317.8               97             27.01   \n",
              "21               10.61              169.9              121             14.44   \n",
              "33               42.43              252.4              119             21.45   \n",
              "41               29.43              203.9              107             17.33   \n",
              "...                ...                ...              ...               ...   \n",
              "3301             47.60              202.2               90             17.19   \n",
              "3304             31.64              198.6              140             16.88   \n",
              "3320             23.80              196.4               77             16.69   \n",
              "3322             54.59              265.5              122             22.57   \n",
              "3323             20.13              249.3               97             21.19   \n",
              "\n",
              "      Total night minutes  Total night calls  Total night charge  \\\n",
              "10                  208.8                111                9.40   \n",
              "15                  160.6                128                7.23   \n",
              "21                  209.6                 64                9.43   \n",
              "33                  280.2                 90               12.61   \n",
              "41                  122.2                 78                5.50   \n",
              "...                   ...                ...                 ...   \n",
              "3301                156.8                103                7.06   \n",
              "3304                206.5                 80                9.29   \n",
              "3320                120.1                133                5.40   \n",
              "3322                180.5                 72                8.12   \n",
              "3323                227.0                 56               10.22   \n",
              "\n",
              "      Total intl minutes  Total intl calls  Total intl charge  \\\n",
              "10                  12.7                 6               3.43   \n",
              "15                   5.4                 9               1.46   \n",
              "21                   5.7                 6               1.54   \n",
              "33                  11.8                 3               3.19   \n",
              "41                  14.6                15               3.94   \n",
              "...                  ...               ...                ...   \n",
              "3301                10.4                 4               2.81   \n",
              "3304                13.8                 5               3.73   \n",
              "3320                 9.7                 4               2.62   \n",
              "3322                11.5                 2               3.11   \n",
              "3323                13.6                 3               3.67   \n",
              "\n",
              "      Customer service calls  Churn  \n",
              "10                         4   True  \n",
              "15                         4   True  \n",
              "21                         5   True  \n",
              "33                         1   True  \n",
              "41                         0   True  \n",
              "...                      ...    ...  \n",
              "3301                       0   True  \n",
              "3304                       4   True  \n",
              "3320                       4   True  \n",
              "3322                       4   True  \n",
              "3323                       5   True  \n",
              "\n",
              "[483 rows x 20 columns]"
            ],
            "text/html": [
              "\n",
              "  <div id=\"df-8da523d8-c97c-4935-8f4c-98fa437565c2\">\n",
              "    <div class=\"colab-df-container\">\n",
              "      <div>\n",
              "<style scoped>\n",
              "    .dataframe tbody tr th:only-of-type {\n",
              "        vertical-align: middle;\n",
              "    }\n",
              "\n",
              "    .dataframe tbody tr th {\n",
              "        vertical-align: top;\n",
              "    }\n",
              "\n",
              "    .dataframe thead th {\n",
              "        text-align: right;\n",
              "    }\n",
              "</style>\n",
              "<table border=\"1\" class=\"dataframe\">\n",
              "  <thead>\n",
              "    <tr style=\"text-align: right;\">\n",
              "      <th></th>\n",
              "      <th>State</th>\n",
              "      <th>Account length</th>\n",
              "      <th>Area code</th>\n",
              "      <th>International plan</th>\n",
              "      <th>Voice mail plan</th>\n",
              "      <th>Number vmail messages</th>\n",
              "      <th>Total day minutes</th>\n",
              "      <th>Total day calls</th>\n",
              "      <th>Total day charge</th>\n",
              "      <th>Total eve minutes</th>\n",
              "      <th>Total eve calls</th>\n",
              "      <th>Total eve charge</th>\n",
              "      <th>Total night minutes</th>\n",
              "      <th>Total night calls</th>\n",
              "      <th>Total night charge</th>\n",
              "      <th>Total intl minutes</th>\n",
              "      <th>Total intl calls</th>\n",
              "      <th>Total intl charge</th>\n",
              "      <th>Customer service calls</th>\n",
              "      <th>Churn</th>\n",
              "    </tr>\n",
              "  </thead>\n",
              "  <tbody>\n",
              "    <tr>\n",
              "      <th>10</th>\n",
              "      <td>IN</td>\n",
              "      <td>65</td>\n",
              "      <td>415</td>\n",
              "      <td>No</td>\n",
              "      <td>No</td>\n",
              "      <td>0</td>\n",
              "      <td>129.1</td>\n",
              "      <td>137</td>\n",
              "      <td>21.95</td>\n",
              "      <td>228.5</td>\n",
              "      <td>83</td>\n",
              "      <td>19.42</td>\n",
              "      <td>208.8</td>\n",
              "      <td>111</td>\n",
              "      <td>9.40</td>\n",
              "      <td>12.7</td>\n",
              "      <td>6</td>\n",
              "      <td>3.43</td>\n",
              "      <td>4</td>\n",
              "      <td>True</td>\n",
              "    </tr>\n",
              "    <tr>\n",
              "      <th>15</th>\n",
              "      <td>NY</td>\n",
              "      <td>161</td>\n",
              "      <td>415</td>\n",
              "      <td>No</td>\n",
              "      <td>No</td>\n",
              "      <td>0</td>\n",
              "      <td>332.9</td>\n",
              "      <td>67</td>\n",
              "      <td>56.59</td>\n",
              "      <td>317.8</td>\n",
              "      <td>97</td>\n",
              "      <td>27.01</td>\n",
              "      <td>160.6</td>\n",
              "      <td>128</td>\n",
              "      <td>7.23</td>\n",
              "      <td>5.4</td>\n",
              "      <td>9</td>\n",
              "      <td>1.46</td>\n",
              "      <td>4</td>\n",
              "      <td>True</td>\n",
              "    </tr>\n",
              "    <tr>\n",
              "      <th>21</th>\n",
              "      <td>CO</td>\n",
              "      <td>77</td>\n",
              "      <td>408</td>\n",
              "      <td>No</td>\n",
              "      <td>No</td>\n",
              "      <td>0</td>\n",
              "      <td>62.4</td>\n",
              "      <td>89</td>\n",
              "      <td>10.61</td>\n",
              "      <td>169.9</td>\n",
              "      <td>121</td>\n",
              "      <td>14.44</td>\n",
              "      <td>209.6</td>\n",
              "      <td>64</td>\n",
              "      <td>9.43</td>\n",
              "      <td>5.7</td>\n",
              "      <td>6</td>\n",
              "      <td>1.54</td>\n",
              "      <td>5</td>\n",
              "      <td>True</td>\n",
              "    </tr>\n",
              "    <tr>\n",
              "      <th>33</th>\n",
              "      <td>AZ</td>\n",
              "      <td>12</td>\n",
              "      <td>408</td>\n",
              "      <td>No</td>\n",
              "      <td>No</td>\n",
              "      <td>0</td>\n",
              "      <td>249.6</td>\n",
              "      <td>118</td>\n",
              "      <td>42.43</td>\n",
              "      <td>252.4</td>\n",
              "      <td>119</td>\n",
              "      <td>21.45</td>\n",
              "      <td>280.2</td>\n",
              "      <td>90</td>\n",
              "      <td>12.61</td>\n",
              "      <td>11.8</td>\n",
              "      <td>3</td>\n",
              "      <td>3.19</td>\n",
              "      <td>1</td>\n",
              "      <td>True</td>\n",
              "    </tr>\n",
              "    <tr>\n",
              "      <th>41</th>\n",
              "      <td>MD</td>\n",
              "      <td>135</td>\n",
              "      <td>408</td>\n",
              "      <td>Yes</td>\n",
              "      <td>Yes</td>\n",
              "      <td>41</td>\n",
              "      <td>173.1</td>\n",
              "      <td>85</td>\n",
              "      <td>29.43</td>\n",
              "      <td>203.9</td>\n",
              "      <td>107</td>\n",
              "      <td>17.33</td>\n",
              "      <td>122.2</td>\n",
              "      <td>78</td>\n",
              "      <td>5.50</td>\n",
              "      <td>14.6</td>\n",
              "      <td>15</td>\n",
              "      <td>3.94</td>\n",
              "      <td>0</td>\n",
              "      <td>True</td>\n",
              "    </tr>\n",
              "    <tr>\n",
              "      <th>...</th>\n",
              "      <td>...</td>\n",
              "      <td>...</td>\n",
              "      <td>...</td>\n",
              "      <td>...</td>\n",
              "      <td>...</td>\n",
              "      <td>...</td>\n",
              "      <td>...</td>\n",
              "      <td>...</td>\n",
              "      <td>...</td>\n",
              "      <td>...</td>\n",
              "      <td>...</td>\n",
              "      <td>...</td>\n",
              "      <td>...</td>\n",
              "      <td>...</td>\n",
              "      <td>...</td>\n",
              "      <td>...</td>\n",
              "      <td>...</td>\n",
              "      <td>...</td>\n",
              "      <td>...</td>\n",
              "      <td>...</td>\n",
              "    </tr>\n",
              "    <tr>\n",
              "      <th>3301</th>\n",
              "      <td>CA</td>\n",
              "      <td>84</td>\n",
              "      <td>415</td>\n",
              "      <td>No</td>\n",
              "      <td>No</td>\n",
              "      <td>0</td>\n",
              "      <td>280.0</td>\n",
              "      <td>113</td>\n",
              "      <td>47.60</td>\n",
              "      <td>202.2</td>\n",
              "      <td>90</td>\n",
              "      <td>17.19</td>\n",
              "      <td>156.8</td>\n",
              "      <td>103</td>\n",
              "      <td>7.06</td>\n",
              "      <td>10.4</td>\n",
              "      <td>4</td>\n",
              "      <td>2.81</td>\n",
              "      <td>0</td>\n",
              "      <td>True</td>\n",
              "    </tr>\n",
              "    <tr>\n",
              "      <th>3304</th>\n",
              "      <td>IL</td>\n",
              "      <td>71</td>\n",
              "      <td>510</td>\n",
              "      <td>Yes</td>\n",
              "      <td>No</td>\n",
              "      <td>0</td>\n",
              "      <td>186.1</td>\n",
              "      <td>114</td>\n",
              "      <td>31.64</td>\n",
              "      <td>198.6</td>\n",
              "      <td>140</td>\n",
              "      <td>16.88</td>\n",
              "      <td>206.5</td>\n",
              "      <td>80</td>\n",
              "      <td>9.29</td>\n",
              "      <td>13.8</td>\n",
              "      <td>5</td>\n",
              "      <td>3.73</td>\n",
              "      <td>4</td>\n",
              "      <td>True</td>\n",
              "    </tr>\n",
              "    <tr>\n",
              "      <th>3320</th>\n",
              "      <td>GA</td>\n",
              "      <td>122</td>\n",
              "      <td>510</td>\n",
              "      <td>Yes</td>\n",
              "      <td>No</td>\n",
              "      <td>0</td>\n",
              "      <td>140.0</td>\n",
              "      <td>101</td>\n",
              "      <td>23.80</td>\n",
              "      <td>196.4</td>\n",
              "      <td>77</td>\n",
              "      <td>16.69</td>\n",
              "      <td>120.1</td>\n",
              "      <td>133</td>\n",
              "      <td>5.40</td>\n",
              "      <td>9.7</td>\n",
              "      <td>4</td>\n",
              "      <td>2.62</td>\n",
              "      <td>4</td>\n",
              "      <td>True</td>\n",
              "    </tr>\n",
              "    <tr>\n",
              "      <th>3322</th>\n",
              "      <td>MD</td>\n",
              "      <td>62</td>\n",
              "      <td>408</td>\n",
              "      <td>No</td>\n",
              "      <td>No</td>\n",
              "      <td>0</td>\n",
              "      <td>321.1</td>\n",
              "      <td>105</td>\n",
              "      <td>54.59</td>\n",
              "      <td>265.5</td>\n",
              "      <td>122</td>\n",
              "      <td>22.57</td>\n",
              "      <td>180.5</td>\n",
              "      <td>72</td>\n",
              "      <td>8.12</td>\n",
              "      <td>11.5</td>\n",
              "      <td>2</td>\n",
              "      <td>3.11</td>\n",
              "      <td>4</td>\n",
              "      <td>True</td>\n",
              "    </tr>\n",
              "    <tr>\n",
              "      <th>3323</th>\n",
              "      <td>IN</td>\n",
              "      <td>117</td>\n",
              "      <td>415</td>\n",
              "      <td>No</td>\n",
              "      <td>No</td>\n",
              "      <td>0</td>\n",
              "      <td>118.4</td>\n",
              "      <td>126</td>\n",
              "      <td>20.13</td>\n",
              "      <td>249.3</td>\n",
              "      <td>97</td>\n",
              "      <td>21.19</td>\n",
              "      <td>227.0</td>\n",
              "      <td>56</td>\n",
              "      <td>10.22</td>\n",
              "      <td>13.6</td>\n",
              "      <td>3</td>\n",
              "      <td>3.67</td>\n",
              "      <td>5</td>\n",
              "      <td>True</td>\n",
              "    </tr>\n",
              "  </tbody>\n",
              "</table>\n",
              "<p>483 rows × 20 columns</p>\n",
              "</div>\n",
              "      <button class=\"colab-df-convert\" onclick=\"convertToInteractive('df-8da523d8-c97c-4935-8f4c-98fa437565c2')\"\n",
              "              title=\"Convert this dataframe to an interactive table.\"\n",
              "              style=\"display:none;\">\n",
              "        \n",
              "  <svg xmlns=\"http://www.w3.org/2000/svg\" height=\"24px\"viewBox=\"0 0 24 24\"\n",
              "       width=\"24px\">\n",
              "    <path d=\"M0 0h24v24H0V0z\" fill=\"none\"/>\n",
              "    <path d=\"M18.56 5.44l.94 2.06.94-2.06 2.06-.94-2.06-.94-.94-2.06-.94 2.06-2.06.94zm-11 1L8.5 8.5l.94-2.06 2.06-.94-2.06-.94L8.5 2.5l-.94 2.06-2.06.94zm10 10l.94 2.06.94-2.06 2.06-.94-2.06-.94-.94-2.06-.94 2.06-2.06.94z\"/><path d=\"M17.41 7.96l-1.37-1.37c-.4-.4-.92-.59-1.43-.59-.52 0-1.04.2-1.43.59L10.3 9.45l-7.72 7.72c-.78.78-.78 2.05 0 2.83L4 21.41c.39.39.9.59 1.41.59.51 0 1.02-.2 1.41-.59l7.78-7.78 2.81-2.81c.8-.78.8-2.07 0-2.86zM5.41 20L4 18.59l7.72-7.72 1.47 1.35L5.41 20z\"/>\n",
              "  </svg>\n",
              "      </button>\n",
              "      \n",
              "  <style>\n",
              "    .colab-df-container {\n",
              "      display:flex;\n",
              "      flex-wrap:wrap;\n",
              "      gap: 12px;\n",
              "    }\n",
              "\n",
              "    .colab-df-convert {\n",
              "      background-color: #E8F0FE;\n",
              "      border: none;\n",
              "      border-radius: 50%;\n",
              "      cursor: pointer;\n",
              "      display: none;\n",
              "      fill: #1967D2;\n",
              "      height: 32px;\n",
              "      padding: 0 0 0 0;\n",
              "      width: 32px;\n",
              "    }\n",
              "\n",
              "    .colab-df-convert:hover {\n",
              "      background-color: #E2EBFA;\n",
              "      box-shadow: 0px 1px 2px rgba(60, 64, 67, 0.3), 0px 1px 3px 1px rgba(60, 64, 67, 0.15);\n",
              "      fill: #174EA6;\n",
              "    }\n",
              "\n",
              "    [theme=dark] .colab-df-convert {\n",
              "      background-color: #3B4455;\n",
              "      fill: #D2E3FC;\n",
              "    }\n",
              "\n",
              "    [theme=dark] .colab-df-convert:hover {\n",
              "      background-color: #434B5C;\n",
              "      box-shadow: 0px 1px 3px 1px rgba(0, 0, 0, 0.15);\n",
              "      filter: drop-shadow(0px 1px 2px rgba(0, 0, 0, 0.3));\n",
              "      fill: #FFFFFF;\n",
              "    }\n",
              "  </style>\n",
              "\n",
              "      <script>\n",
              "        const buttonEl =\n",
              "          document.querySelector('#df-8da523d8-c97c-4935-8f4c-98fa437565c2 button.colab-df-convert');\n",
              "        buttonEl.style.display =\n",
              "          google.colab.kernel.accessAllowed ? 'block' : 'none';\n",
              "\n",
              "        async function convertToInteractive(key) {\n",
              "          const element = document.querySelector('#df-8da523d8-c97c-4935-8f4c-98fa437565c2');\n",
              "          const dataTable =\n",
              "            await google.colab.kernel.invokeFunction('convertToInteractive',\n",
              "                                                     [key], {});\n",
              "          if (!dataTable) return;\n",
              "\n",
              "          const docLinkHtml = 'Like what you see? Visit the ' +\n",
              "            '<a target=\"_blank\" href=https://colab.research.google.com/notebooks/data_table.ipynb>data table notebook</a>'\n",
              "            + ' to learn more about interactive tables.';\n",
              "          element.innerHTML = '';\n",
              "          dataTable['output_type'] = 'display_data';\n",
              "          await google.colab.output.renderOutput(dataTable, element);\n",
              "          const docLink = document.createElement('div');\n",
              "          docLink.innerHTML = docLinkHtml;\n",
              "          element.appendChild(docLink);\n",
              "        }\n",
              "      </script>\n",
              "    </div>\n",
              "  </div>\n",
              "  "
            ]
          },
          "metadata": {},
          "execution_count": 8
        }
      ]
    },
    {
      "cell_type": "markdown",
      "source": [
        "**Key take aways from data:**\n",
        "- Shape: **(20,3333)**; data-set has 20 columns (/key-features/information)\n",
        "- Data includes **all 3333 non-zero rows**(/entries)\n",
        "- **483 out of 3333** customers have churned. [This can also be easily seen in the following pie-chart.] "
      ],
      "metadata": {
        "id": "tzCmNH7euYcA"
      }
    },
    {
      "cell_type": "code",
      "source": [
        "numb_of_Churned_Customers = len(df_churned)\n",
        "#numb_of_Churned_Customers\n",
        "numb_of_not_Churned = len(df)-len(df_churned)\n",
        "#numb_of_not_Churned\n",
        "\n",
        "explode = (0, 0.2)\n",
        "plt.pie((df[\"Churn\"].value_counts()), explode = explode, autopct = '%1.1f%%', shadow=True, radius =2.0, labels = ['Not churned customer','Churned customer'],colors=['royalblue','lime'])\n",
        "circle=plt.Circle((0,0), 1, color ='white')\n",
        "p=plt.gcf()\n",
        "p.gca().add_artist(circle)\n",
        "\n",
        "plt.title (\"Customer churn percentage distribution\",y=-0.6)\n",
        "plt.show()\n",
        "#plt.pie\n",
        "\n",
        "\n"
      ],
      "metadata": {
        "colab": {
          "base_uri": "https://localhost:8080/",
          "height": 442
        },
        "id": "Zq2ZRy1QASqd",
        "outputId": "251ade00-c833-4f80-f98e-9b848606a1e6"
      },
      "execution_count": null,
      "outputs": [
        {
          "output_type": "display_data",
          "data": {
            "text/plain": [
              "<Figure size 432x288 with 1 Axes>"
            ],
            "image/png": "[encoded data removed]"
          },
          "metadata": {}
        }
      ]
    },
    {
      "cell_type": "markdown",
      "source": [
        "From the chart it's clear that nearly *14.5 %age (483 out of 3333) of the customers have switched their network to some other service providers which is clearly not a good sign for SA Orange*.\n",
        "\n",
        "So, for discovering the key factors responsible for 14.49% churn in customers, let us consider all the feature informatiion provided in the data set and \n",
        "compare its effects on the churn.\n",
        "\n"
      ],
      "metadata": {
        "id": "BI5sY-2JJZdX"
      }
    },
    {
      "cell_type": "markdown",
      "source": [
        "**Dominant factors affecting Churn**"
      ],
      "metadata": {
        "id": "b45xlXlifyyv"
      }
    },
    {
      "cell_type": "code",
      "source": [
        "plt.figure(figsize=(12,8))\n",
        "corr = df.corr()\n",
        "corr=corr[[\"Churn\"]]\n",
        "\n",
        "corr=corr.sort_values(\"Churn\",ascending=True)\n",
        "#print(corr)\n",
        "\n",
        "mask = np.triu(np.ones_like(corr, dtype=bool))\n",
        "#sns.heatmap(corr, annot=True, mask=mask, cmap='viridis')\n",
        "sns.heatmap(corr, cmap='binary',linewidth=.5,annot=True, vmax = .7)\n",
        "plt.show()"
      ],
      "metadata": {
        "colab": {
          "base_uri": "https://localhost:8080/",
          "height": 487
        },
        "id": "bpRubWdnf0J6",
        "outputId": "f3066d07-4f8d-4ec6-97fb-b762801efe70"
      },
      "execution_count": null,
      "outputs": [
        {
          "output_type": "display_data",
          "data": {
            "text/plain": [
              "<Figure size 864x576 with 2 Axes>"
            ],
            "image/png": "[encoded data removed]"
          },
          "metadata": {
            "needs_background": "light"
          }
        }
      ]
    },
    {
      "cell_type": "markdown",
      "source": [
        "It can be seen from the above heatmap that:\n",
        "- **Customer service call**\n",
        "- **Total day minutes**\n",
        "- **Total day charge**\n",
        "\n",
        "**are highly influencing the churn [correlation coefficient > 0.2].**\n",
        "\n",
        "So, in this project we have considered all the above three factors mainly, along with factors affecting churn like: States, International calling, Voice mail messaging etc."
      ],
      "metadata": {
        "id": "eGTBilIki-GR"
      }
    },
    {
      "cell_type": "markdown",
      "source": [
        "# **1. States (/Regional Network) effects on churn:**"
      ],
      "metadata": {
        "id": "jhvAQXbPfulP"
      }
    },
    {
      "cell_type": "code",
      "source": [
        "df_notChurned = df[df['Churn'] == False]\n",
        "#print(df_notChurned.head())\n",
        "#print(df_notChurned['State'].value_counts())\n",
        "#print(df_churned['State'].value_counts())\n",
        "\n",
        "\n",
        "fig=plt.figure(figsize = (20, 10))\n",
        "plt.bar(df_churned['State'].value_counts().index,df_churned['State'].value_counts(),align='edge',label='Churn = True',width=+0.4)\n",
        "plt.bar(df_notChurned['State'].value_counts().index,df_notChurned['State'].value_counts(),label='Churn = False',align='edge',width=-0.4)\n",
        "\n",
        "plt.title('Effects of Regional Network distribution (based on States) on the churn', fontweight ='bold', fontsize = 16)\n",
        "plt.xlabel('States', fontweight ='bold', fontsize = 14)\n",
        "plt.ylabel('Churn count (True/False)', fontweight ='bold', fontsize = 14)\n",
        "\n",
        "plt.legend()\n",
        "plt.show()\n"
      ],
      "metadata": {
        "colab": {
          "base_uri": "https://localhost:8080/"
        },
        "id": "P0DcMd_nLpBK",
        "outputId": "96bd3eda-4e84-4928-b5d8-0d17fbdd9fa2"
      },
      "execution_count": null,
      "outputs": [
        {
          "output_type": "display_data",
          "data": {
            "text/plain": [
              "<Figure size 1440x720 with 1 Axes>"
            ],
            "image/png": "[encoded data removed]"
          },
          "metadata": {
            "needs_background": "light"
          }
        }
      ]
    },
    {
      "cell_type": "markdown",
      "source": [
        "It's clear from the above plot (bar-chart) that the states: \n",
        "- New Jersey (NJ)\n",
        "- Texas\n",
        "- Mary Land (MD)\n",
        "- Michigan\n",
        "- New York\n",
        "- Minnesota (MN)\n",
        "\n",
        "are having high churn count (above 15). This may be due to insuffcient network coverage or high network traffic.\n",
        "\n",
        "**Thus, for these states Network upgradation is required**"
      ],
      "metadata": {
        "id": "iLXyZpnyZpnj"
      }
    },
    {
      "cell_type": "markdown",
      "source": [
        "**Percentage-wise distribution of churn in different states**"
      ],
      "metadata": {
        "id": "xj_qwlT0NkwJ"
      }
    },
    {
      "cell_type": "code",
      "source": [
        "percent_state_churn=(df_churned['State'].value_counts()/df['State'].value_counts())\n",
        "percent_state_churn=percent_state_churn.sort_values(ascending=False)\n",
        "#print(percent_state_churn*100)\n",
        "#print(percent_state_churn.index)\n",
        "#print(percent_state_churn.values)\n",
        "\n",
        "fig=plt.figure(figsize = (16, 10))\n",
        "plt.bar(percent_state_churn[0:6].index,percent_state_churn[0:6].values*100,width=+0.4,color=['Red','blue','y','green','orange','grey'])\n",
        "\n",
        "\n",
        "plt.title('Percentage of customer in different states switching (Churn = True)', fontweight ='bold', fontsize = 16)\n",
        "plt.xlabel('States', fontweight ='bold', fontsize = 14)\n",
        "plt.ylabel('Percentage (w.r.t total number of the customers in respective states)', fontweight ='bold', fontsize = 14)\n",
        "\n",
        "plt.show()\n",
        "\n",
        "\n"
      ],
      "metadata": {
        "colab": {
          "base_uri": "https://localhost:8080/"
        },
        "id": "_SC3Tpm1NzkD",
        "outputId": "cf073abd-af6e-4f23-8f48-8c0b7c1b5d82"
      },
      "execution_count": null,
      "outputs": [
        {
          "output_type": "display_data",
          "data": {
            "text/plain": [
              "<Figure size 1152x720 with 1 Axes>"
            ],
            "image/png": "[encoded data removed]"
          },
          "metadata": {
            "needs_background": "light"
          }
        }
      ]
    },
    {
      "cell_type": "markdown",
      "source": [
        "Also from the percentage wise distribution:\n",
        "*   New Jersey (NJ)\n",
        "*   California\n",
        "*   Texas\n",
        "*   Mary Land (MD)\n",
        "*   South Carolina (SC)\n",
        "*   Michigan\n",
        "\n",
        "are having high churn percentage rate (~25%). This may be due to insuffcient network coverage or high network traffic.\n",
        "\n",
        "**Thus, for these states Network upgradation is required**"
      ],
      "metadata": {
        "id": "RAINuzScWc89"
      }
    },
    {
      "cell_type": "markdown",
      "source": [
        "# **2. International-Plan service's effects on the churn**"
      ],
      "metadata": {
        "id": "RepHFWVWbawg"
      }
    },
    {
      "cell_type": "markdown",
      "source": [
        "**Customers opting for International-Plans**"
      ],
      "metadata": {
        "id": "tzQY-7S9c1SB"
      }
    },
    {
      "cell_type": "code",
      "source": [
        "#Coustomers having International Plans but have not-churned\n",
        "series_Int_plan_not_Churned = (df_notChurned[df_notChurned['International plan'] == 'Yes']['International plan'])\n",
        "#print(series_Int_plan_not_Churned.value_counts())\n",
        "\n",
        "#Coustomers having International Plans but have churned\n",
        "series_Int_plan_Churned = (df_churned[df_churned['International plan'] == 'Yes']['International plan'])\n",
        "#print(len(series_Int_plan_Churned))\n",
        "\n",
        "fig=plt.figure(figsize = (10,10))\n",
        "plt.subplot(211)\n",
        "\n",
        "\n",
        "plt.title(\"Costumers having International plan v/s Churn status\",fontweight ='bold', fontsize = 14)\n",
        "\n",
        "\n",
        "sns.countplot(x='International plan',hue=\"Churn\", data=df)\n",
        "\n",
        "plt.subplot(212)\n",
        "plt.pie([len(series_Int_plan_Churned),len(series_Int_plan_not_Churned)],labels=['Churn = True ','Churn = Flase'],shadow=True,autopct = '%.2f')\n",
        "plt.show()"
      ],
      "metadata": {
        "colab": {
          "base_uri": "https://localhost:8080/",
          "height": 591
        },
        "id": "8SslPZp3kHgg",
        "outputId": "f5db8db0-67ff-4cba-82cc-1146639d779d"
      },
      "execution_count": null,
      "outputs": [
        {
          "output_type": "display_data",
          "data": {
            "text/plain": [
              "<Figure size 720x720 with 2 Axes>"
            ],
            "image/png": "[encoded data removed]"
          },
          "metadata": {
            "needs_background": "light"
          }
        }
      ]
    },
    {
      "cell_type": "markdown",
      "source": [
        "From the above figures it is evident that the rate of churn is very high for customers with International plan services. \n",
        "\n",
        "**42.41 %age of the total customers with International calling facilities are switching the network.**\n",
        "\n",
        "This is a clear indication towards the need of improvement in International plans. **Which can be achieved by reducing the International plans' pricing rates and by improving the International calling quality with help of advanced technologies like VoLTE.**"
      ],
      "metadata": {
        "id": "klF5ryAzzBS8"
      }
    },
    {
      "cell_type": "markdown",
      "source": [
        "# **3. Number of Voicemail messages v/s Chrun** "
      ],
      "metadata": {
        "id": "N3u4V_tNqrKQ"
      }
    },
    {
      "cell_type": "code",
      "source": [
        "#\n",
        "numb_Vmail_churned = df_churned['Number vmail messages']\n",
        "numb_Vmail_notChurned = df_notChurned['Number vmail messages']\n",
        "\n",
        "\n",
        "plt.boxplot([numb_Vmail_churned,numb_Vmail_notChurned],showbox=True,labels=[\"True\",\"False\"],showmeans=True)\n",
        "plt.title(\"Voice mail messages v/s Churn status\",fontweight ='bold', fontsize = 14)\n",
        "plt.xlabel('Churn status', fontsize = 14)\n",
        "plt.ylabel('Number of voice mails', fontsize = 14)\n",
        "plt.grid()\n",
        "plt.show()\n",
        "\n"
      ],
      "metadata": {
        "colab": {
          "base_uri": "https://localhost:8080/",
          "height": 355
        },
        "id": "oA7kYOCUrlJL",
        "outputId": "52d4e445-1f54-42bf-94c5-046f60c708b3"
      },
      "execution_count": null,
      "outputs": [
        {
          "output_type": "stream",
          "name": "stderr",
          "text": [
            "/usr/local/lib/python3.7/dist-packages/matplotlib/cbook/__init__.py:1376: VisibleDeprecationWarning: Creating an ndarray from ragged nested sequences (which is a list-or-tuple of lists-or-tuples-or ndarrays with different lengths or shapes) is deprecated. If you meant to do this, you must specify 'dtype=object' when creating the ndarray.\n",
            "  X = np.atleast_1d(X.T if isinstance(X, np.ndarray) else np.asarray(X))\n"
          ]
        },
        {
          "output_type": "display_data",
          "data": {
            "text/plain": [
              "<Figure size 432x288 with 1 Axes>"
            ],
            "image/png": "[encoded data removed]"
          },
          "metadata": {
            "needs_background": "light"
          }
        }
      ]
    },
    {
      "cell_type": "markdown",
      "source": [
        "From the above figure it is clear that ***when the number of Voice messages are greater than 15, there is very high chance for the churn.***\n",
        "\n",
        "**This can resolved by revising Voice message plans and improving voice mail technologies.**"
      ],
      "metadata": {
        "id": "lZD0xMBEBNy2"
      }
    },
    {
      "cell_type": "markdown",
      "source": [
        "# **4. Total day-minutes of calls' effect on churn**"
      ],
      "metadata": {
        "id": "U5dXnU_8Dhop"
      }
    },
    {
      "cell_type": "markdown",
      "source": [
        "let us now understand the effects of taotal day-minutes on churn based on the data set provided."
      ],
      "metadata": {
        "id": "NwMosCazFAPS"
      }
    },
    {
      "cell_type": "code",
      "source": [
        "total_dayMinutes_churned = df_churned['Total day minutes']\n",
        "total_dayMinutes_notChurned = df_notChurned['Total day minutes']\n",
        "\n",
        "\n",
        "plt.boxplot([total_dayMinutes_churned,total_dayMinutes_notChurned],showbox=True,labels=[\"True\",\"False\"],showmeans=True)\n",
        "plt.title(\"Total day-call minutes v/s Churn status\",fontweight ='bold', fontsize = 14)\n",
        "plt.xlabel('Churn status', fontsize = 14)\n",
        "plt.ylabel('Total day-minutes', fontsize = 14)\n",
        "plt.grid()\n",
        "plt.show()"
      ],
      "metadata": {
        "colab": {
          "base_uri": "https://localhost:8080/"
        },
        "id": "dEM0s602FBXr",
        "outputId": "87d6d6d2-a575-4ccb-d083-e4bfee039f14"
      },
      "execution_count": null,
      "outputs": [
        {
          "output_type": "stream",
          "name": "stderr",
          "text": [
            "/usr/local/lib/python3.7/dist-packages/matplotlib/cbook/__init__.py:1376: VisibleDeprecationWarning: Creating an ndarray from ragged nested sequences (which is a list-or-tuple of lists-or-tuples-or ndarrays with different lengths or shapes) is deprecated. If you meant to do this, you must specify 'dtype=object' when creating the ndarray.\n",
            "  X = np.atleast_1d(X.T if isinstance(X, np.ndarray) else np.asarray(X))\n"
          ]
        },
        {
          "output_type": "display_data",
          "data": {
            "text/plain": [
              "<Figure size 432x288 with 1 Axes>"
            ],
            "image/png": "[encoded data removed]"
          },
          "metadata": {
            "needs_background": "light"
          }
        }
      ]
    },
    {
      "cell_type": "markdown",
      "source": [
        "It is evident from the above figure that the *people with total day-calling minutes greater than 225 (approx.) are switching their network*. \n",
        "\n",
        "**Solution to this can be:**\n",
        "- Better voice calling quality: by adopting newer technologies like VoLTE etc.\n",
        "- Especial pricing rate/plans for customers, calling for more number of hours(/minutes).\n",
        "- Network upgradation to avoid unnecessary traffic and noise.\n",
        "\n"
      ],
      "metadata": {
        "id": "5cTGi-55MKDq"
      }
    },
    {
      "cell_type": "markdown",
      "source": [
        "# **5. Total number of day-calls' effect on churn**"
      ],
      "metadata": {
        "id": "qR9m25xaIxWz"
      }
    },
    {
      "cell_type": "code",
      "source": [
        "total_dayCalls_churned = df_churned['Total day calls']\n",
        "total_dayCalls_notChurned = df_notChurned['Total day calls']\n",
        "\n",
        "\n",
        "plt.boxplot([total_dayCalls_churned,total_dayCalls_notChurned],showbox=True,labels=[\"True\",\"False\"],showmeans=True)\n",
        "plt.title(\"Total day-calls v/s Churn status\",fontweight ='bold', fontsize = 14)\n",
        "plt.xlabel('Churn status', fontsize = 14)\n",
        "plt.ylabel('Total number of day calls', fontsize = 14)\n",
        "plt.grid()\n",
        "plt.show()"
      ],
      "metadata": {
        "colab": {
          "base_uri": "https://localhost:8080/",
          "height": 355
        },
        "id": "OJ473tfNMLcA",
        "outputId": "d9fb405b-b16f-4113-f3e4-760daba33d5e"
      },
      "execution_count": null,
      "outputs": [
        {
          "output_type": "stream",
          "name": "stderr",
          "text": [
            "/usr/local/lib/python3.7/dist-packages/matplotlib/cbook/__init__.py:1376: VisibleDeprecationWarning: Creating an ndarray from ragged nested sequences (which is a list-or-tuple of lists-or-tuples-or ndarrays with different lengths or shapes) is deprecated. If you meant to do this, you must specify 'dtype=object' when creating the ndarray.\n",
            "  X = np.atleast_1d(X.T if isinstance(X, np.ndarray) else np.asarray(X))\n"
          ]
        },
        {
          "output_type": "display_data",
          "data": {
            "text/plain": [
              "<Figure size 432x288 with 1 Axes>"
            ],
            "image/png": "[encoded data removed]"
          },
          "metadata": {
            "needs_background": "light"
          }
        }
      ]
    },
    {
      "cell_type": "markdown",
      "source": [
        "It can be easily infered that the average(/or median) calls are nearly 100. But it's also worth noting the chruned customers' median is greater than 100 (marginally though), indicating the customers might be facing higher call drops and hence, rising the unsatifaction level which ultimately is leading to churning. \n",
        "\n",
        "Solution:\n",
        "- **Better network coverage is required with higher signal strength.**"
      ],
      "metadata": {
        "id": "gkjL5M9jMebu"
      }
    },
    {
      "cell_type": "markdown",
      "source": [
        "# **6. Effects of Total day-call charges on churn**"
      ],
      "metadata": {
        "id": "1UpalAtoMd93"
      }
    },
    {
      "cell_type": "code",
      "source": [
        "total_dayCharges_churned = df_churned['Total day charge']\n",
        "total_dayCharges_notChurned = df_notChurned['Total day charge']\n",
        "\n",
        "\n",
        "plt.boxplot([total_dayCharges_churned,total_dayCharges_notChurned],showbox=True,labels=[\"True\",\"False\"],showmeans=True)\n",
        "plt.title(\"Day-calling chargers v/s Churn status\",fontweight ='bold', fontsize = 14)\n",
        "plt.xlabel('Churn status', fontsize = 14)\n",
        "plt.ylabel('Total day-calling charges', fontsize = 14)\n",
        "plt.grid()\n",
        "plt.show()"
      ],
      "metadata": {
        "colab": {
          "base_uri": "https://localhost:8080/",
          "height": 355
        },
        "id": "dnR9Q0OTMfw-",
        "outputId": "43f6f40c-9a5c-4756-9dd3-de1838d18009"
      },
      "execution_count": null,
      "outputs": [
        {
          "output_type": "stream",
          "name": "stderr",
          "text": [
            "/usr/local/lib/python3.7/dist-packages/matplotlib/cbook/__init__.py:1376: VisibleDeprecationWarning: Creating an ndarray from ragged nested sequences (which is a list-or-tuple of lists-or-tuples-or ndarrays with different lengths or shapes) is deprecated. If you meant to do this, you must specify 'dtype=object' when creating the ndarray.\n",
            "  X = np.atleast_1d(X.T if isinstance(X, np.ndarray) else np.asarray(X))\n"
          ]
        },
        {
          "output_type": "display_data",
          "data": {
            "text/plain": [
              "<Figure size 432x288 with 1 Axes>"
            ],
            "image/png": "[encoded data removed]"
          },
          "metadata": {
            "needs_background": "light"
          }
        }
      ]
    },
    {
      "cell_type": "markdown",
      "source": [
        "It can be seen that customers are switching the network when then are paying higher sum of money (median = 35$).\n",
        "\n",
        "Solution:\n",
        "- **Pricing strategy should be changed such that calls rates should be discounted for customers who are using the network for more number of hours.**"
      ],
      "metadata": {
        "id": "KUCMVJNgh4yR"
      }
    },
    {
      "cell_type": "code",
      "source": [],
      "metadata": {
        "id": "9XJWxYtLf2JE"
      },
      "execution_count": null,
      "outputs": []
    },
    {
      "cell_type": "markdown",
      "source": [
        "# **7. Effect of Total number of International calls on churn**"
      ],
      "metadata": {
        "id": "wELFXNF2h4lH"
      }
    },
    {
      "cell_type": "code",
      "source": [
        "total_InterNationalMinutes_churned = df_churned['Total intl minutes']\n",
        "total_InterNationalMinutes_notChurned = df_notChurned['Total intl minutes']\n",
        "\n",
        "\n",
        "plt.boxplot([total_InterNationalMinutes_churned,total_InterNationalMinutes_notChurned],showbox=True,labels=[\"True\",\"False\"],showmeans=True)\n",
        "plt.title(\"Total number of International minutes v/s Churn\",fontweight ='bold', fontsize = 14)\n",
        "plt.xlabel('Churn status', fontsize = 14)\n",
        "plt.ylabel('Total nuber of International mins.', fontsize = 14)\n",
        "plt.grid()\n",
        "plt.show()"
      ],
      "metadata": {
        "colab": {
          "base_uri": "https://localhost:8080/",
          "height": 355
        },
        "id": "ZPJAnQrFiXVb",
        "outputId": "0194d298-4d12-4559-b1a5-bb5936e8a31e"
      },
      "execution_count": null,
      "outputs": [
        {
          "output_type": "stream",
          "name": "stderr",
          "text": [
            "/usr/local/lib/python3.7/dist-packages/matplotlib/cbook/__init__.py:1376: VisibleDeprecationWarning: Creating an ndarray from ragged nested sequences (which is a list-or-tuple of lists-or-tuples-or ndarrays with different lengths or shapes) is deprecated. If you meant to do this, you must specify 'dtype=object' when creating the ndarray.\n",
            "  X = np.atleast_1d(X.T if isinstance(X, np.ndarray) else np.asarray(X))\n"
          ]
        },
        {
          "output_type": "display_data",
          "data": {
            "text/plain": [
              "<Figure size 432x288 with 1 Axes>"
            ],
            "image/png": "[encoded data removed]"
          },
          "metadata": {
            "needs_background": "light"
          }
        }
      ]
    },
    {
      "cell_type": "markdown",
      "source": [
        "Customers tending to make more International calls are switching to other network.\n",
        "\n",
        "Solution:\n",
        "- International calling service needs to be improved by using better cummunication technologies."
      ],
      "metadata": {
        "id": "rYEEXPgykkoC"
      }
    },
    {
      "cell_type": "markdown",
      "source": [
        "# **8. Effects of Total International calling' charges on churn**"
      ],
      "metadata": {
        "id": "CeK67Gr-kkbY"
      }
    },
    {
      "cell_type": "code",
      "source": [
        "total_InternationalCharges_churned = df_churned['Total intl charge']\n",
        "total_InternationalCharges_notChurned = df_notChurned['Total intl charge']\n",
        "\n",
        "\n",
        "plt.boxplot([total_InternationalCharges_churned,total_InternationalCharges_notChurned],showbox=True,labels=[\"True\",\"False\"],showmeans=True)\n",
        "plt.title(\"International calling charges v/s Churn status\",fontweight ='bold', fontsize = 14)\n",
        "plt.xlabel('Churn status', fontsize = 14)\n",
        "plt.ylabel('Total International calling charges', fontsize = 14)\n",
        "plt.grid()\n",
        "plt.show()"
      ],
      "metadata": {
        "colab": {
          "base_uri": "https://localhost:8080/",
          "height": 355
        },
        "id": "sBalYTNnk1vj",
        "outputId": "e8a78e6e-fbf1-4731-f50e-3c6d25b345a5"
      },
      "execution_count": null,
      "outputs": [
        {
          "output_type": "stream",
          "name": "stderr",
          "text": [
            "/usr/local/lib/python3.7/dist-packages/matplotlib/cbook/__init__.py:1376: VisibleDeprecationWarning: Creating an ndarray from ragged nested sequences (which is a list-or-tuple of lists-or-tuples-or ndarrays with different lengths or shapes) is deprecated. If you meant to do this, you must specify 'dtype=object' when creating the ndarray.\n",
            "  X = np.atleast_1d(X.T if isinstance(X, np.ndarray) else np.asarray(X))\n"
          ]
        },
        {
          "output_type": "display_data",
          "data": {
            "text/plain": [
              "<Figure size 432x288 with 1 Axes>"
            ],
            "image/png": "[encoded data removed]"
          },
          "metadata": {
            "needs_background": "light"
          }
        }
      ]
    },
    {
      "cell_type": "markdown",
      "source": [
        "Better interncational calling plans are required and rate optimization techniques."
      ],
      "metadata": {
        "id": "AdVbq6Zelbvf"
      }
    },
    {
      "cell_type": "markdown",
      "source": [
        "# **9. Role of customer support on churn**"
      ],
      "metadata": {
        "id": "Wo0AwwhAvZ3o"
      }
    },
    {
      "cell_type": "code",
      "source": [
        "fig=plt.figure(figsize = (20, 10))\n",
        "plt.bar(df_churned['Customer service calls'].value_counts().index,df_churned['Customer service calls'].value_counts(),align='edge',label='Churn = True',width=0.4)\n",
        "plt.bar(df_notChurned['Customer service calls'].value_counts().index,df_notChurned['Customer service calls'].value_counts(),label='Churn = False',align='edge',width=-0.4)\n",
        "\n",
        "plt.title('Effects of customer support on churn', fontweight ='bold', fontsize = 16)\n",
        "plt.xlabel('Customer service calls', fontweight ='bold', fontsize = 14)\n",
        "plt.ylabel('Number of customers', fontweight ='bold', fontsize = 14)\n",
        "\n",
        "plt.legend()\n",
        "plt.show()"
      ],
      "metadata": {
        "colab": {
          "base_uri": "https://localhost:8080/",
          "height": 627
        },
        "id": "gYWeUQZ-s4NE",
        "outputId": "5e5c8d6a-bbb0-4545-9bd8-61ce396a1beb"
      },
      "execution_count": null,
      "outputs": [
        {
          "output_type": "display_data",
          "data": {
            "text/plain": [
              "<Figure size 1440x720 with 1 Axes>"
            ],
            "image/png": "[encoded data removed]"
          },
          "metadata": {
            "needs_background": "light"
          }
        }
      ]
    },
    {
      "cell_type": "markdown",
      "source": [
        "It can be seen that there are many customers who are switching directly without even calling to customer support, for them nothing  much can be done. But its also visible that customers calling for more than 5 times are showing high churn. Indicating that their issues were not resolved.\n",
        "\n",
        "Solution:\n",
        "\n",
        "**Improvement in customer support is required, by proper management and clear communication with customer.**"
      ],
      "metadata": {
        "id": "sauXU_GrvtEb"
      }
    }
  ]
}